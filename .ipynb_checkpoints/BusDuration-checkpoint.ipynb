{
 "cells": [
  {
   "cell_type": "code",
   "execution_count": 1,
   "metadata": {
    "collapsed": false,
    "deletable": true,
    "editable": true
   },
   "outputs": [
    {
     "data": {
      "text/plain": [
       "<pyspark.context.SparkContext at 0x100776590>"
      ]
     },
     "execution_count": 1,
     "metadata": {},
     "output_type": "execute_result"
    }
   ],
   "source": [
    "sc"
   ]
  },
  {
   "cell_type": "code",
   "execution_count": 2,
   "metadata": {
    "collapsed": true,
    "deletable": true,
    "editable": true
   },
   "outputs": [],
   "source": [
    "import csv\n",
    "import pandas as pd\n",
    "from datetime import datetime\n",
    "from pyspark.sql import functions"
   ]
  },
  {
   "cell_type": "code",
   "execution_count": 107,
   "metadata": {
    "collapsed": false,
    "deletable": true,
    "editable": true,
    "scrolled": false
   },
   "outputs": [],
   "source": [
    "def parseCSV(idx, records):\n",
    "    for row in csv.reader(records):\n",
    "        direction = 0\n",
    "        bus = row[7].split('_')[2]\n",
    "        tripid = row[7].split('_')[1].split('-')[2]\n",
    "        start = int(row[0].split('T')[1].split(':')[0])\n",
    "        minute = int(row[0].split('T')[1].split(':')[1])\n",
    "        t = datetime.strptime(row[0], '%Y-%m-%dT%H:%M:%SZ')  \n",
    "        date = t.strftime('%Y-%m-%d')\n",
    "        tm = t.strftime('%Y-%m-%d %H:%M:%S')\n",
    "        unique_key = str(date) + str(bus) + str(tripid)\n",
    "        \n",
    "        # Create bus direction\n",
    "        # Achilles changes - changed the values for the bearings and switched directions for Q48\n",
    "        \n",
    "        if bus == 'BX1':\n",
    "            if float(row[4]) < 200:\n",
    "                direction = 1\n",
    "            else:\n",
    "                direction = 2\n",
    "        elif bus == 'BX6':\n",
    "            if float(row[4]) < 110:\n",
    "                direction = 1\n",
    "            else:\n",
    "                direction = 2\n",
    "        elif bus == 'BX13':\n",
    "            if 70 <= float(row[4]) < 150:\n",
    "                direction = 1\n",
    "            else:\n",
    "                direction = 2\n",
    "        elif bus == 'Q48':\n",
    "            if 100 <= float(row[4]) < 150:\n",
    "                direction = 2\n",
    "            else:\n",
    "                direction = 1 \n",
    "                \n",
    "        if minute < 15:\n",
    "            interval = str(start) + str(':00-') + str(start) + str(':15')\n",
    "        elif 15 <= minute < 30:\n",
    "            interval = str(start) + str(':15-') + str(start) + str(':30')\n",
    "        elif 30 <= minute < 45:\n",
    "            interval = str(start) + str(':30-') + str(start) + str(':45')\n",
    "        elif 45 <= minute < 60:\n",
    "            interval = str(start) + str(':45-') + str(start+1) + str(':00')\n",
    "\n",
    "        yield unique_key, tm, bus, tripid, direction, interval\n",
    "\n",
    "## Source data file. \n",
    "# path = '/Users/JordanVani/Documents/NYU/BDM/nyc-bus-delay-event/Data/BDM_BusData.csv'\n",
    "path = '/Users/JordanVani/Documents/NYU/BDM/Junk/data1.csv'\n",
    "\n",
    "## Parse datafile to RDD.\n",
    "data = sc.textFile(path).mapPartitionsWithIndex(parseCSV)\n",
    "\n",
    "## For each unique bus line, calculate route start time.\n",
    "min_by_group = (data\n",
    "                .map(lambda x: (x[0], x[0:6]))\n",
    "                .reduceByKey(lambda x1, x2: min(x1, x2, key=lambda x: x[1]))\n",
    "                .values()\n",
    "                .map(lambda x: (x[0], (x[1:6]))))\n",
    "\n",
    "## For each unique bus line, calculate route end time.\n",
    "max_by_group = (data\n",
    "                .map(lambda x: (x[0], x[0:2]))\n",
    "                .reduceByKey(lambda x1, x2: max(x1, x2, key=lambda x: x[1]))\n",
    "                .values())\n",
    "\n",
    "## Join start and stop times.\n",
    "rdd = min_by_group.join(max_by_group)\n",
    "rdd = rdd.flatMap(lambda x: [[x[0], x[1][0][0], x[1][1], x[1][0][1],\n",
    "                              x[1][0][2], x[1][0][4]]])\n",
    "\n",
    "# Calculate duration of bus.\n",
    "time_diff = rdd.toDF(['id', 'start', 'stop', 'bus', 'tripid', 'interval'])\n",
    "time_diff = time_diff.select('id', time_diff['start'].cast('timestamp'),\n",
    "                             time_diff['stop'].cast('timestamp'), 'bus', 'tripid', 'interval')\n",
    "timeDiff = (functions.unix_timestamp('stop', format=\"yyyy-MM-dd HH:mm:ss\")\n",
    "            - functions.unix_timestamp('start', format=\"yyyy-MM-dd HH:mm:ss\"))\n",
    "time_diff = time_diff.withColumn('duration', timeDiff)\n",
    "\n",
    "# Calculate mean direction\n",
    "trip_dir = data.toDF(['id_', 'time', 'bus', 'tripid', 'direction', 'interval'])\n",
    "trip_dir = trip_dir.groupby(\"id_\").agg({'direction': 'avg'})\n",
    "\n",
    "# Join direction back to data.\n",
    "master = time_diff.join(trip_dir, time_diff.id == trip_dir.id_, how='left_outer')\n",
    "master = master.select('id', 'start', 'bus', 'tripid', 'interval', 'duration', \n",
    "                       functions.col('avg(direction)').cast('int').alias('direction'))"
   ]
  },
  {
   "cell_type": "code",
   "execution_count": 108,
   "metadata": {
    "collapsed": false
   },
   "outputs": [
    {
     "name": "stdout",
     "output_type": "stream",
     "text": [
      "+--------------------+--------------------+----+------+---------+--------+---------+\n",
      "|                  id|               start| bus|tripid| interval|duration|direction|\n",
      "+--------------------+--------------------+----+------+---------+--------+---------+\n",
      "| 2014-08-09BX6116500|2014-08-09 00:00:...| BX6|116500|0:00-0:15|    1813|        1|\n",
      "| 2014-08-09BX6124200|2014-08-09 00:44:...| BX6|124200|0:30-0:45|    3632|        1|\n",
      "| 2014-08-09Q48117600|2014-08-09 00:00:...| Q48|117600|0:00-0:15|    1137|        1|\n",
      "| 2014-08-09Q48122000|2014-08-09 00:11:...| Q48|122000|0:00-0:15|    2331|        1|\n",
      "|2014-08-09BX13128300|2014-08-09 01:21:...|BX13|128300|1:15-1:30|    2051|        2|\n",
      "+--------------------+--------------------+----+------+---------+--------+---------+\n",
      "only showing top 5 rows\n",
      "\n"
     ]
    }
   ],
   "source": [
    "master.show(5)"
   ]
  },
  {
   "cell_type": "code",
   "execution_count": 118,
   "metadata": {
    "collapsed": false
   },
   "outputs": [],
   "source": [
    "rdd_times = (master\n",
    "             .groupby(\"bus\", functions.date_format('start', 'yyyy-MM-dd').alias('date'), \n",
    "                      \"direction\", \"interval\")\n",
    "             .agg({\"duration\": \"avg\", \"id\": \"count\"}))"
   ]
  },
  {
   "cell_type": "code",
   "execution_count": 123,
   "metadata": {
    "collapsed": false
   },
   "outputs": [
    {
     "name": "stdout",
     "output_type": "stream",
     "text": [
      "+----+----------+---------+---------+------------------+---------+\n",
      "| bus|      date|direction| interval|     avg(duration)|count(id)|\n",
      "+----+----------+---------+---------+------------------+---------+\n",
      "| BX1|2014-08-09|        1|0:00-0:15|3198.5714285714284|        7|\n",
      "| BX1|2014-08-09|        2|0:00-0:15|            1059.0|        4|\n",
      "| BX1|2014-08-09|        1|0:30-0:45|            4735.0|        1|\n",
      "| BX1|2014-08-09|        1|0:45-1:00|            3697.0|        1|\n",
      "| BX1|2014-08-09|        2|1:00-1:15|               0.0|        1|\n",
      "| BX1|2014-08-09|        1|1:45-2:00|              92.0|        1|\n",
      "| BX1|2014-08-09|        2|2:00-2:15|             878.0|        1|\n",
      "| BX1|2014-08-09|        1|2:15-2:30|             921.0|        1|\n",
      "|BX13|2014-08-09|        2|0:00-0:15|            1958.0|        1|\n",
      "|BX13|2014-08-09|        1|0:00-0:15|            1662.0|        9|\n",
      "|BX13|2014-08-09|        1|0:15-0:30|2115.3333333333335|        3|\n",
      "|BX13|2014-08-09|        1|0:30-0:45|            1456.8|        5|\n",
      "|BX13|2014-08-09|        2|0:45-1:00|            1956.0|        1|\n",
      "|BX13|2014-08-09|        1|1:00-1:15|            2025.0|        1|\n",
      "|BX13|2014-08-09|        2|1:15-1:30|            2051.0|        1|\n",
      "|BX13|2014-08-09|        1|1:15-1:30|2186.3333333333335|        3|\n",
      "|BX13|2014-08-09|        1|1:30-1:45|            2229.0|        1|\n",
      "|BX13|2014-08-09|        2|1:45-2:00|            1667.0|        1|\n",
      "|BX13|2014-08-09|        1|1:45-2:00|2109.3333333333335|        3|\n",
      "|BX13|2014-08-09|        2|2:00-2:15|            1541.0|        2|\n",
      "|BX13|2014-08-09|        2|2:15-2:30|             156.0|        1|\n",
      "|BX13|2014-08-09|        1|2:15-2:30|             315.0|        1|\n",
      "| BX6|2014-08-09|        1|0:00-0:15|1941.9444444444443|       18|\n",
      "| BX6|2014-08-09|        1|0:15-0:30|           2080.25|        4|\n",
      "| BX6|2014-08-09|        1|0:30-0:45|3173.3333333333335|        6|\n",
      "| BX6|2014-08-09|        1|0:45-1:00|           2115.75|        4|\n",
      "| BX6|2014-08-09|        1|1:00-1:15|            2357.2|        5|\n",
      "| BX6|2014-08-09|        1|1:15-1:30|3540.3333333333335|        3|\n",
      "| BX6|2014-08-09|        1|1:30-1:45|            3177.5|        4|\n",
      "| BX6|2014-08-09|        1|1:45-2:00|            2332.5|        4|\n",
      "| BX6|2014-08-09|        1|2:00-2:15|            1306.8|        5|\n",
      "| BX6|2014-08-09|        1|2:15-2:30|             676.0|        4|\n",
      "| BX6|2014-08-09|        2|2:30-2:45|               0.0|        1|\n",
      "| BX6|2014-08-09|        1|2:30-2:45|              32.0|        1|\n",
      "| Q48|2014-08-09|        1|0:00-0:15|            1734.0|        2|\n",
      "| Q48|2014-08-09|        1|0:15-0:30|             600.0|        2|\n",
      "| Q48|2014-08-09|        1|0:45-1:00|            1701.0|        1|\n",
      "| Q48|2014-08-09|        1|1:45-2:00|            2121.0|        1|\n",
      "| Q48|2014-08-09|        1|2:15-2:30|             442.0|        1|\n",
      "+----+----------+---------+---------+------------------+---------+\n",
      "\n"
     ]
    }
   ],
   "source": [
    "(rdd_times\n",
    " .sort(functions.col('bus'), functions.col('date'), functions.col('interval'))\n",
    " .show(100))"
   ]
  },
  {
   "cell_type": "code",
   "execution_count": null,
   "metadata": {
    "collapsed": true
   },
   "outputs": [],
   "source": []
  }
 ],
 "metadata": {
  "anaconda-cloud": {},
  "kernelspec": {
   "display_name": "Python [Root]",
   "language": "python",
   "name": "Python [Root]"
  },
  "language_info": {
   "codemirror_mode": {
    "name": "ipython",
    "version": 2
   },
   "file_extension": ".py",
   "mimetype": "text/x-python",
   "name": "python",
   "nbconvert_exporter": "python",
   "pygments_lexer": "ipython2",
   "version": "2.7.12"
  }
 },
 "nbformat": 4,
 "nbformat_minor": 2
}
