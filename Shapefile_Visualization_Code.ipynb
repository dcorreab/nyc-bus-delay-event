{
 "cells": [
  {
   "cell_type": "markdown",
   "metadata": {},
   "source": [
    "### Reading Shapefiles to See the Route Delays\n",
    "#### Achilles Edwin Alfred Saxby"
   ]
  },
  {
   "cell_type": "code",
   "execution_count": 3,
   "metadata": {
    "collapsed": true
   },
   "outputs": [],
   "source": [
    "import pandas as pd\n",
    "import geopandas as gpd\n",
    "import shapefile #the pyshp module"
   ]
  },
  {
   "cell_type": "code",
   "execution_count": 6,
   "metadata": {
    "collapsed": false
   },
   "outputs": [],
   "source": [
    "#read file, parse out the records and shapes\n",
    "shapefile_path_1 = \"nyu_2451_34690/routes_bx_bus_may2016.shp\"\n",
    "\n",
    "sf1 = shapefile.Reader(shapefile_path_1)\n",
    "\n",
    "#grab the shapefile's field names (omit the first psuedo field)\n",
    "fields = [x[0] for x in sf1.fields][1:]\n",
    "records = sf1.records()\n",
    "shps = [s.points for s in sf1.shapes()]\n",
    "\n",
    "#write the records into a dataframe\n",
    "bronx_dataframe = pd.DataFrame(columns=fields, data=records)\n",
    "\n",
    "#add the coordinate data to a column called \"coords\"\n",
    "bronx_dataframe = bronx_dataframe.assign(coords=shps)"
   ]
  },
  {
   "cell_type": "code",
   "execution_count": 7,
   "metadata": {
    "collapsed": false
   },
   "outputs": [
    {
     "data": {
      "text/html": [
       "<div>\n",
       "<table border=\"1\" class=\"dataframe\">\n",
       "  <thead>\n",
       "    <tr style=\"text-align: right;\">\n",
       "      <th></th>\n",
       "      <th>route_id</th>\n",
       "      <th>direction_</th>\n",
       "      <th>route_dir</th>\n",
       "      <th>coords</th>\n",
       "    </tr>\n",
       "  </thead>\n",
       "  <tbody>\n",
       "    <tr>\n",
       "      <th>0</th>\n",
       "      <td>BX10</td>\n",
       "      <td>0</td>\n",
       "      <td>BX10_0</td>\n",
       "      <td>[(1017401.3337, 258058.205336), (1017318.93386...</td>\n",
       "    </tr>\n",
       "    <tr>\n",
       "      <th>1</th>\n",
       "      <td>BX10</td>\n",
       "      <td>1</td>\n",
       "      <td>BX10_1</td>\n",
       "      <td>[(1009416.64967, 260317.700816), (1009579.9493...</td>\n",
       "    </tr>\n",
       "    <tr>\n",
       "      <th>2</th>\n",
       "      <td>BX11</td>\n",
       "      <td>0</td>\n",
       "      <td>BX11_0</td>\n",
       "      <td>[(1001468.46557, 248623.724183), (1001210.9660...</td>\n",
       "    </tr>\n",
       "    <tr>\n",
       "      <th>3</th>\n",
       "      <td>BX11</td>\n",
       "      <td>1</td>\n",
       "      <td>BX11_1</td>\n",
       "      <td>[(1014290.33993, 239896.841659), (1014314.9398...</td>\n",
       "    </tr>\n",
       "    <tr>\n",
       "      <th>4</th>\n",
       "      <td>BX12+</td>\n",
       "      <td>0</td>\n",
       "      <td>BX12+_0</td>\n",
       "      <td>[(1032047.4044, 249815.021812), (1032067.90436...</td>\n",
       "    </tr>\n",
       "  </tbody>\n",
       "</table>\n",
       "</div>"
      ],
      "text/plain": [
       "  route_id  direction_ route_dir  \\\n",
       "0     BX10           0    BX10_0   \n",
       "1     BX10           1    BX10_1   \n",
       "2     BX11           0    BX11_0   \n",
       "3     BX11           1    BX11_1   \n",
       "4    BX12+           0   BX12+_0   \n",
       "\n",
       "                                              coords  \n",
       "0  [(1017401.3337, 258058.205336), (1017318.93386...  \n",
       "1  [(1009416.64967, 260317.700816), (1009579.9493...  \n",
       "2  [(1001468.46557, 248623.724183), (1001210.9660...  \n",
       "3  [(1014290.33993, 239896.841659), (1014314.9398...  \n",
       "4  [(1032047.4044, 249815.021812), (1032067.90436...  "
      ]
     },
     "execution_count": 7,
     "metadata": {},
     "output_type": "execute_result"
    }
   ],
   "source": [
    "bronx_dataframe.head()"
   ]
  },
  {
   "cell_type": "code",
   "execution_count": 25,
   "metadata": {
    "collapsed": false
   },
   "outputs": [
    {
     "data": {
      "text/html": [
       "<div>\n",
       "<table border=\"1\" class=\"dataframe\">\n",
       "  <thead>\n",
       "    <tr style=\"text-align: right;\">\n",
       "      <th></th>\n",
       "      <th>route_id</th>\n",
       "      <th>direction_</th>\n",
       "      <th>route_dir</th>\n",
       "      <th>coords</th>\n",
       "    </tr>\n",
       "  </thead>\n",
       "  <tbody>\n",
       "    <tr>\n",
       "      <th>8</th>\n",
       "      <td>BX13</td>\n",
       "      <td>0</td>\n",
       "      <td>BX13_0</td>\n",
       "      <td>[(1005359.65778, 246635.028166), (1005333.9578...</td>\n",
       "    </tr>\n",
       "    <tr>\n",
       "      <th>9</th>\n",
       "      <td>BX13</td>\n",
       "      <td>1</td>\n",
       "      <td>BX13_1</td>\n",
       "      <td>[(1003734.66103, 238272.044908), (1003967.9605...</td>\n",
       "    </tr>\n",
       "    <tr>\n",
       "      <th>20</th>\n",
       "      <td>BX1</td>\n",
       "      <td>0</td>\n",
       "      <td>BX1_0</td>\n",
       "      <td>[(1004114.96026, 234267.352893), (1004143.9602...</td>\n",
       "    </tr>\n",
       "    <tr>\n",
       "      <th>21</th>\n",
       "      <td>BX1</td>\n",
       "      <td>1</td>\n",
       "      <td>BX1_1</td>\n",
       "      <td>[(1009306.14988, 260344.400756), (1009308.9498...</td>\n",
       "    </tr>\n",
       "    <tr>\n",
       "      <th>76</th>\n",
       "      <td>BX6</td>\n",
       "      <td>0</td>\n",
       "      <td>BX6_0</td>\n",
       "      <td>[(1014445.63962, 238179.945087), (1014467.9395...</td>\n",
       "    </tr>\n",
       "  </tbody>\n",
       "</table>\n",
       "</div>"
      ],
      "text/plain": [
       "   route_id  direction_ route_dir  \\\n",
       "8      BX13           0    BX13_0   \n",
       "9      BX13           1    BX13_1   \n",
       "20      BX1           0     BX1_0   \n",
       "21      BX1           1     BX1_1   \n",
       "76      BX6           0     BX6_0   \n",
       "\n",
       "                                               coords  \n",
       "8   [(1005359.65778, 246635.028166), (1005333.9578...  \n",
       "9   [(1003734.66103, 238272.044908), (1003967.9605...  \n",
       "20  [(1004114.96026, 234267.352893), (1004143.9602...  \n",
       "21  [(1009306.14988, 260344.400756), (1009308.9498...  \n",
       "76  [(1014445.63962, 238179.945087), (1014467.9395...  "
      ]
     },
     "execution_count": 25,
     "metadata": {},
     "output_type": "execute_result"
    }
   ],
   "source": [
    "bronx_dataframe = bronx_dataframe[bronx_dataframe['route_id'].isin(['BX1', 'BX6', 'BX13'])]\n",
    "bronx_dataframe.head()"
   ]
  },
  {
   "cell_type": "code",
   "execution_count": 27,
   "metadata": {
    "collapsed": true
   },
   "outputs": [],
   "source": [
    "bronx_dataframe.reset_index(inplace=True, drop=True)"
   ]
  },
  {
   "cell_type": "code",
   "execution_count": 28,
   "metadata": {
    "collapsed": false
   },
   "outputs": [
    {
     "data": {
      "text/html": [
       "<div>\n",
       "<table border=\"1\" class=\"dataframe\">\n",
       "  <thead>\n",
       "    <tr style=\"text-align: right;\">\n",
       "      <th></th>\n",
       "      <th>route_id</th>\n",
       "      <th>direction_</th>\n",
       "      <th>route_dir</th>\n",
       "      <th>coords</th>\n",
       "    </tr>\n",
       "  </thead>\n",
       "  <tbody>\n",
       "    <tr>\n",
       "      <th>0</th>\n",
       "      <td>BX13</td>\n",
       "      <td>0</td>\n",
       "      <td>BX13_0</td>\n",
       "      <td>[(1005359.65778, 246635.028166), (1005333.9578...</td>\n",
       "    </tr>\n",
       "    <tr>\n",
       "      <th>1</th>\n",
       "      <td>BX13</td>\n",
       "      <td>1</td>\n",
       "      <td>BX13_1</td>\n",
       "      <td>[(1003734.66103, 238272.044908), (1003967.9605...</td>\n",
       "    </tr>\n",
       "    <tr>\n",
       "      <th>2</th>\n",
       "      <td>BX1</td>\n",
       "      <td>0</td>\n",
       "      <td>BX1_0</td>\n",
       "      <td>[(1004114.96026, 234267.352893), (1004143.9602...</td>\n",
       "    </tr>\n",
       "    <tr>\n",
       "      <th>3</th>\n",
       "      <td>BX1</td>\n",
       "      <td>1</td>\n",
       "      <td>BX1_1</td>\n",
       "      <td>[(1009306.14988, 260344.400756), (1009308.9498...</td>\n",
       "    </tr>\n",
       "    <tr>\n",
       "      <th>4</th>\n",
       "      <td>BX6</td>\n",
       "      <td>0</td>\n",
       "      <td>BX6_0</td>\n",
       "      <td>[(1014445.63962, 238179.945087), (1014467.9395...</td>\n",
       "    </tr>\n",
       "  </tbody>\n",
       "</table>\n",
       "</div>"
      ],
      "text/plain": [
       "  route_id  direction_ route_dir  \\\n",
       "0     BX13           0    BX13_0   \n",
       "1     BX13           1    BX13_1   \n",
       "2      BX1           0     BX1_0   \n",
       "3      BX1           1     BX1_1   \n",
       "4      BX6           0     BX6_0   \n",
       "\n",
       "                                              coords  \n",
       "0  [(1005359.65778, 246635.028166), (1005333.9578...  \n",
       "1  [(1003734.66103, 238272.044908), (1003967.9605...  \n",
       "2  [(1004114.96026, 234267.352893), (1004143.9602...  \n",
       "3  [(1009306.14988, 260344.400756), (1009308.9498...  \n",
       "4  [(1014445.63962, 238179.945087), (1014467.9395...  "
      ]
     },
     "execution_count": 28,
     "metadata": {},
     "output_type": "execute_result"
    }
   ],
   "source": [
    "bronx_dataframe.head()"
   ]
  },
  {
   "cell_type": "code",
   "execution_count": 10,
   "metadata": {
    "collapsed": false
   },
   "outputs": [],
   "source": [
    "shapefile_path_2 = \"nyu_2451_34694/routes_qn_bus_may2016.shp\"\n",
    "\n",
    "sf2 = shapefile.Reader(shapefile_path_2)\n",
    "\n",
    "#grab the shapefile's field names (omit the first psuedo field)\n",
    "fields = [x[0] for x in sf2.fields][1:]\n",
    "records = sf2.records()\n",
    "shps = [s.points for s in sf2.shapes()]\n",
    "\n",
    "#write the records into a dataframe\n",
    "queens_dataframe = pd.DataFrame(columns=fields, data=records)\n",
    "\n",
    "#add the coordinate data to a column called \"coords\"\n",
    "queens_dataframe = queens_dataframe.assign(coords=shps)"
   ]
  },
  {
   "cell_type": "code",
   "execution_count": 11,
   "metadata": {
    "collapsed": false
   },
   "outputs": [
    {
     "data": {
      "text/html": [
       "<div>\n",
       "<table border=\"1\" class=\"dataframe\">\n",
       "  <thead>\n",
       "    <tr style=\"text-align: right;\">\n",
       "      <th></th>\n",
       "      <th>route_id</th>\n",
       "      <th>direction_</th>\n",
       "      <th>route_dir</th>\n",
       "      <th>coords</th>\n",
       "    </tr>\n",
       "  </thead>\n",
       "  <tbody>\n",
       "    <tr>\n",
       "      <th>0</th>\n",
       "      <td>Q12</td>\n",
       "      <td>0</td>\n",
       "      <td>Q12_0</td>\n",
       "      <td>[(1030857.50679, 215849.589739), (1031306.9058...</td>\n",
       "    </tr>\n",
       "    <tr>\n",
       "      <th>1</th>\n",
       "      <td>Q12</td>\n",
       "      <td>1</td>\n",
       "      <td>Q12_1</td>\n",
       "      <td>[(1057750.353, 220528.480395), (1057696.85311,...</td>\n",
       "    </tr>\n",
       "    <tr>\n",
       "      <th>2</th>\n",
       "      <td>Q13</td>\n",
       "      <td>0</td>\n",
       "      <td>Q13_0</td>\n",
       "      <td>[(1032159.90419, 216592.188242), (1032211.9040...</td>\n",
       "    </tr>\n",
       "    <tr>\n",
       "      <th>3</th>\n",
       "      <td>Q13</td>\n",
       "      <td>1</td>\n",
       "      <td>Q13_1</td>\n",
       "      <td>[(1044888.57874, 227678.966089), (1044788.8789...</td>\n",
       "    </tr>\n",
       "    <tr>\n",
       "      <th>4</th>\n",
       "      <td>Q15A</td>\n",
       "      <td>0</td>\n",
       "      <td>Q15A_0</td>\n",
       "      <td>[(1030857.50679, 215849.589739), (1031306.9058...</td>\n",
       "    </tr>\n",
       "  </tbody>\n",
       "</table>\n",
       "</div>"
      ],
      "text/plain": [
       "  route_id  direction_ route_dir  \\\n",
       "0      Q12           0     Q12_0   \n",
       "1      Q12           1     Q12_1   \n",
       "2      Q13           0     Q13_0   \n",
       "3      Q13           1     Q13_1   \n",
       "4     Q15A           0    Q15A_0   \n",
       "\n",
       "                                              coords  \n",
       "0  [(1030857.50679, 215849.589739), (1031306.9058...  \n",
       "1  [(1057750.353, 220528.480395), (1057696.85311,...  \n",
       "2  [(1032159.90419, 216592.188242), (1032211.9040...  \n",
       "3  [(1044888.57874, 227678.966089), (1044788.8789...  \n",
       "4  [(1030857.50679, 215849.589739), (1031306.9058...  "
      ]
     },
     "execution_count": 11,
     "metadata": {},
     "output_type": "execute_result"
    }
   ],
   "source": [
    "queens_dataframe.head()"
   ]
  },
  {
   "cell_type": "code",
   "execution_count": 26,
   "metadata": {
    "collapsed": false
   },
   "outputs": [
    {
     "data": {
      "text/html": [
       "<div>\n",
       "<table border=\"1\" class=\"dataframe\">\n",
       "  <thead>\n",
       "    <tr style=\"text-align: right;\">\n",
       "      <th></th>\n",
       "      <th>route_id</th>\n",
       "      <th>direction_</th>\n",
       "      <th>route_dir</th>\n",
       "      <th>coords</th>\n",
       "    </tr>\n",
       "  </thead>\n",
       "  <tbody>\n",
       "    <tr>\n",
       "      <th>44</th>\n",
       "      <td>Q48</td>\n",
       "      <td>0</td>\n",
       "      <td>Q48_0</td>\n",
       "      <td>[(1015815.13688, 220795.67986), (1015826.93685...</td>\n",
       "    </tr>\n",
       "    <tr>\n",
       "      <th>45</th>\n",
       "      <td>Q48</td>\n",
       "      <td>1</td>\n",
       "      <td>Q48_1</td>\n",
       "      <td>[(1031271.50596, 216038.489343), (1030813.9068...</td>\n",
       "    </tr>\n",
       "  </tbody>\n",
       "</table>\n",
       "</div>"
      ],
      "text/plain": [
       "   route_id  direction_ route_dir  \\\n",
       "44      Q48           0     Q48_0   \n",
       "45      Q48           1     Q48_1   \n",
       "\n",
       "                                               coords  \n",
       "44  [(1015815.13688, 220795.67986), (1015826.93685...  \n",
       "45  [(1031271.50596, 216038.489343), (1030813.9068...  "
      ]
     },
     "execution_count": 26,
     "metadata": {},
     "output_type": "execute_result"
    }
   ],
   "source": [
    "queens_dataframe = queens_dataframe[queens_dataframe['route_id'].isin(['Q48'])]\n",
    "queens_dataframe.head()"
   ]
  },
  {
   "cell_type": "code",
   "execution_count": 29,
   "metadata": {
    "collapsed": false
   },
   "outputs": [
    {
     "data": {
      "text/html": [
       "<div>\n",
       "<table border=\"1\" class=\"dataframe\">\n",
       "  <thead>\n",
       "    <tr style=\"text-align: right;\">\n",
       "      <th></th>\n",
       "      <th>route_id</th>\n",
       "      <th>direction_</th>\n",
       "      <th>route_dir</th>\n",
       "      <th>coords</th>\n",
       "    </tr>\n",
       "  </thead>\n",
       "  <tbody>\n",
       "    <tr>\n",
       "      <th>0</th>\n",
       "      <td>Q48</td>\n",
       "      <td>0</td>\n",
       "      <td>Q48_0</td>\n",
       "      <td>[(1015815.13688, 220795.67986), (1015826.93685...</td>\n",
       "    </tr>\n",
       "    <tr>\n",
       "      <th>1</th>\n",
       "      <td>Q48</td>\n",
       "      <td>1</td>\n",
       "      <td>Q48_1</td>\n",
       "      <td>[(1031271.50596, 216038.489343), (1030813.9068...</td>\n",
       "    </tr>\n",
       "  </tbody>\n",
       "</table>\n",
       "</div>"
      ],
      "text/plain": [
       "  route_id  direction_ route_dir  \\\n",
       "0      Q48           0     Q48_0   \n",
       "1      Q48           1     Q48_1   \n",
       "\n",
       "                                              coords  \n",
       "0  [(1015815.13688, 220795.67986), (1015826.93685...  \n",
       "1  [(1031271.50596, 216038.489343), (1030813.9068...  "
      ]
     },
     "execution_count": 29,
     "metadata": {},
     "output_type": "execute_result"
    }
   ],
   "source": [
    "queens_dataframe.reset_index(inplace=True, drop=True)\n",
    "queens_dataframe"
   ]
  },
  {
   "cell_type": "code",
   "execution_count": 30,
   "metadata": {
    "collapsed": true
   },
   "outputs": [],
   "source": [
    "bronx_dataframe.to_csv(\"Bronx.csv\")\n",
    "queens_dataframe.to_csv(\"Queens.csv\")"
   ]
  }
 ],
 "metadata": {
  "kernelspec": {
   "display_name": "Python [Root]",
   "language": "python",
   "name": "Python [Root]"
  },
  "language_info": {
   "codemirror_mode": {
    "name": "ipython",
    "version": 2
   },
   "file_extension": ".py",
   "mimetype": "text/x-python",
   "name": "python",
   "nbconvert_exporter": "python",
   "pygments_lexer": "ipython2",
   "version": "2.7.12"
  }
 },
 "nbformat": 4,
 "nbformat_minor": 0
}
