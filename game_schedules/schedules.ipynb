{
 "cells": [
  {
   "cell_type": "code",
   "execution_count": 4,
   "metadata": {
    "collapsed": true
   },
   "outputs": [],
   "source": [
    "import pandas as pd\n",
    "import numpy as np\n",
    "from datetime import date, datetime, timedelta"
   ]
  },
  {
   "cell_type": "markdown",
   "metadata": {},
   "source": [
    "Assumptions used to get game start and end times:\n",
    "- Typical day game start time: NYY - 1:05, NYM - 1:10 \n",
    "- Typical night game start time: NYY - 7:05, NYM - 7:10 \n",
    "- Avg length of game: 2:56 (in 2015)\n",
    "\n",
    "Team codes used in source data (and output CSVs): \n",
    "- Yankees - NYA\n",
    "- Mets - NYN"
   ]
  },
  {
   "cell_type": "code",
   "execution_count": 5,
   "metadata": {
    "collapsed": true
   },
   "outputs": [],
   "source": [
    "fields = ['Date', 'Double header code', 'Day of week', 'Visiting team', 'Visitor league', 'Visitor game number', \\\n",
    "          'Home team', 'Home team league', 'Home team game number', 'Time of day code', 'Postponement/cancellation', \\\n",
    "          'Date of makeup']"
   ]
  },
  {
   "cell_type": "code",
   "execution_count": 10,
   "metadata": {
    "collapsed": false
   },
   "outputs": [],
   "source": [
    "def getHomeSchedule(fileName, teamCode):\n",
    "    sched = pd.read_csv('2015SKED.txt', header=None)\n",
    "    sched.columns = fields\n",
    "    team_sched = sched[sched['Home team'] == teamCode]\n",
    "    team_sched = team_sched[team_sched['Postponement/cancellation'].isnull()]\n",
    "    if teamCode == 'NYN':\n",
    "        team_sched['time'] = ['1910' if x == 'N' else '1310' for x in team_sched['Time of day code']]\n",
    "    elif teamCode == 'NYA':\n",
    "        team_sched['time'] = ['1905' if x == 'N' else '1305' for x in team_sched['Time of day code']] \n",
    "    team_sched['starttime'] = team_sched['Date'] + team_sched['time']\n",
    "    team_sched['starttime'] = [datetime.strptime(x, '%Y%m%d%H%M') for x in team_sched['starttime']]\n",
    "    team_sched['endtime'] = team_sched['starttime'] + timedelta(0,0,0,0,56,2)\n",
    "    team_sched.to_csv(teamCode + fileName[2:4] + '.csv')"
   ]
  },
  {
   "cell_type": "code",
   "execution_count": 11,
   "metadata": {
    "collapsed": false
   },
   "outputs": [],
   "source": [
    "# generate Mets schedule csv\n",
    "getHomeSchedule('2014SKED.TXT', 'NYN')\n",
    "getHomeSchedule('2015SKED.TXT', 'NYN')\n",
    "getHomeSchedule('2016SKED.TXT', 'NYN')"
   ]
  },
  {
   "cell_type": "code",
   "execution_count": 12,
   "metadata": {
    "collapsed": false
   },
   "outputs": [],
   "source": [
    "# generate Yankees schedule csv\n",
    "getHomeSchedule('2014SKED.TXT', 'NYA')\n",
    "getHomeSchedule('2015SKED.TXT', 'NYA')\n",
    "getHomeSchedule('2016SKED.TXT', 'NYA')"
   ]
  },
  {
   "cell_type": "code",
   "execution_count": null,
   "metadata": {
    "collapsed": true
   },
   "outputs": [],
   "source": []
  }
 ],
 "metadata": {
  "anaconda-cloud": {},
  "kernelspec": {
   "display_name": "Python [Root]",
   "language": "python",
   "name": "Python [Root]"
  },
  "language_info": {
   "codemirror_mode": {
    "name": "ipython",
    "version": 2
   },
   "file_extension": ".py",
   "mimetype": "text/x-python",
   "name": "python",
   "nbconvert_exporter": "python",
   "pygments_lexer": "ipython2",
   "version": "2.7.12"
  }
 },
 "nbformat": 4,
 "nbformat_minor": 0
}
