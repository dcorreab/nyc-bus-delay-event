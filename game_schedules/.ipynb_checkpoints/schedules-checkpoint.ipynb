{
 "cells": [
  {
   "cell_type": "markdown",
   "metadata": {},
   "source": [
    "### Yankees/Mets home game schedules 2014-2016\n",
    "#### Data processing scripts\n",
    "Source data: http://retrosheet.org/schedule/index.html"
   ]
  },
  {
   "cell_type": "markdown",
   "metadata": {},
   "source": [
    "Assumptions used to get game start and end times:\n",
    "- Typical day game start time: NYY - 1:05pm, NYM - 1:10pm \n",
    "- Typical night game start time: NYY - 7:05pm, NYM - 7:10pm \n",
    "- Typical Saturday afternoon Mets start time: 4:05pm\n",
    "- Avg length of game: 2:56 (in 2015)\n",
    "\n",
    "Team codes used in source data (and output CSVs): \n",
    "- Yankees - NYA\n",
    "- Mets - NYN"
   ]
  },
  {
   "cell_type": "code",
   "execution_count": 4,
   "metadata": {
    "collapsed": true
   },
   "outputs": [],
   "source": [
    "import pandas as pd\n",
    "import numpy as np\n",
    "from datetime import date, datetime, timedelta"
   ]
  },
  {
   "cell_type": "code",
   "execution_count": 118,
   "metadata": {
    "collapsed": false
   },
   "outputs": [],
   "source": [
    "fields = ['Date', 'Double header code', 'Day of week', 'Visiting team', 'Visitor league', 'Visitor game number', \\\n",
    "          'Home team', 'Home team league', 'Home team game number', 'Time of day code', 'Postponement/cancellation', \\\n",
    "          'Date of makeup']\n",
    "\n",
    "drop_fields = list(fields)\n",
    "drop_fields.remove('Home team')"
   ]
  },
  {
   "cell_type": "code",
   "execution_count": 85,
   "metadata": {
    "collapsed": false
   },
   "outputs": [],
   "source": [
    "# function to set game times based on the typical start times\n",
    "def setTimes(row):\n",
    "    if row['Home team'] == 'NYN':\n",
    "        if row['Day of week'] == 'Sat' and row['Time of day code'] == 'D':\n",
    "            return '1605'\n",
    "        elif row['Time of day code'] == 'D':\n",
    "            return '1310'\n",
    "        else:\n",
    "            return '1910'\n",
    "    elif row['Home team'] == 'NYA':\n",
    "        if row['Time of day code'] == 'D':\n",
    "            return '1305'\n",
    "        else:\n",
    "            return '1905' "
   ]
  },
  {
   "cell_type": "code",
   "execution_count": 119,
   "metadata": {
    "collapsed": true
   },
   "outputs": [],
   "source": [
    "def getSchedules(fileName):\n",
    "    sched = pd.read_csv('2015SKED.txt', header=None)\n",
    "    sched.columns = fields\n",
    "    team_sched = sched[(sched['Home team'] == 'NYN') | (sched['Home team'] == 'NYA')]\n",
    "    team_sched = team_sched[team_sched['Postponement/cancellation'].isnull()]\n",
    "    team_sched.reset_index(drop=True, inplace=True)\n",
    "    \n",
    "    # set game start times for each team\n",
    "    team_sched['time'] = team_sched.apply(setTimes, axis=1)\n",
    "    \n",
    "    # create start and end times as datetime fields\n",
    "    team_sched['starttime'] = team_sched['Date'] + team_sched['time']\n",
    "    team_sched['starttime'] = [datetime.strptime(x, '%Y%m%d%H%M') for x in team_sched['starttime']]\n",
    "    team_sched['endtime'] = team_sched['starttime'] + timedelta(0,0,0,0,56,2)\n",
    "\n",
    "    # get start and end time windows\n",
    "    team_sched['startwindow_start'] = team_sched['starttime'] - timedelta(0,0,0,0,30,1)\n",
    "    team_sched['startwindow_end'] = team_sched['starttime'] + timedelta(0,0,0,0,30,0)\n",
    "    team_sched['endwindow_start'] = team_sched['endtime'] - timedelta(0,0,0,0,30,0)\n",
    "    team_sched['endwindow_end'] = team_sched['endtime'] + timedelta(0,0,0,0,30,1)\n",
    "    \n",
    "    team_sched.drop(drop_fields, axis=1, inplace=True)\n",
    "    team_sched.drop('time', axis=1, inplace=True)\n",
    "    return team_sched"
   ]
  },
  {
   "cell_type": "code",
   "execution_count": 121,
   "metadata": {
    "collapsed": false
   },
   "outputs": [
    {
     "name": "stdout",
     "output_type": "stream",
     "text": [
      "480\n"
     ]
    },
    {
     "data": {
      "text/html": [
       "<div>\n",
       "<table border=\"1\" class=\"dataframe\">\n",
       "  <thead>\n",
       "    <tr style=\"text-align: right;\">\n",
       "      <th></th>\n",
       "      <th>Home team</th>\n",
       "      <th>starttime</th>\n",
       "      <th>endtime</th>\n",
       "      <th>startwindow_start</th>\n",
       "      <th>startwindow_end</th>\n",
       "      <th>endwindow_start</th>\n",
       "      <th>endwindow_end</th>\n",
       "    </tr>\n",
       "  </thead>\n",
       "  <tbody>\n",
       "    <tr>\n",
       "      <th>0</th>\n",
       "      <td>NYA</td>\n",
       "      <td>2015-04-06 13:05:00</td>\n",
       "      <td>2015-04-06 16:01:00</td>\n",
       "      <td>2015-04-06 11:35:00</td>\n",
       "      <td>2015-04-06 13:35:00</td>\n",
       "      <td>2015-04-06 15:31:00</td>\n",
       "      <td>2015-04-06 17:31:00</td>\n",
       "    </tr>\n",
       "    <tr>\n",
       "      <th>1</th>\n",
       "      <td>NYA</td>\n",
       "      <td>2015-04-08 19:05:00</td>\n",
       "      <td>2015-04-08 22:01:00</td>\n",
       "      <td>2015-04-08 17:35:00</td>\n",
       "      <td>2015-04-08 19:35:00</td>\n",
       "      <td>2015-04-08 21:31:00</td>\n",
       "      <td>2015-04-08 23:31:00</td>\n",
       "    </tr>\n",
       "    <tr>\n",
       "      <th>2</th>\n",
       "      <td>NYA</td>\n",
       "      <td>2015-04-09 19:05:00</td>\n",
       "      <td>2015-04-09 22:01:00</td>\n",
       "      <td>2015-04-09 17:35:00</td>\n",
       "      <td>2015-04-09 19:35:00</td>\n",
       "      <td>2015-04-09 21:31:00</td>\n",
       "      <td>2015-04-09 23:31:00</td>\n",
       "    </tr>\n",
       "    <tr>\n",
       "      <th>3</th>\n",
       "      <td>NYA</td>\n",
       "      <td>2015-04-10 19:05:00</td>\n",
       "      <td>2015-04-10 22:01:00</td>\n",
       "      <td>2015-04-10 17:35:00</td>\n",
       "      <td>2015-04-10 19:35:00</td>\n",
       "      <td>2015-04-10 21:31:00</td>\n",
       "      <td>2015-04-10 23:31:00</td>\n",
       "    </tr>\n",
       "    <tr>\n",
       "      <th>4</th>\n",
       "      <td>NYA</td>\n",
       "      <td>2015-04-11 13:05:00</td>\n",
       "      <td>2015-04-11 16:01:00</td>\n",
       "      <td>2015-04-11 11:35:00</td>\n",
       "      <td>2015-04-11 13:35:00</td>\n",
       "      <td>2015-04-11 15:31:00</td>\n",
       "      <td>2015-04-11 17:31:00</td>\n",
       "    </tr>\n",
       "  </tbody>\n",
       "</table>\n",
       "</div>"
      ],
      "text/plain": [
       "  Home team           starttime             endtime   startwindow_start  \\\n",
       "0       NYA 2015-04-06 13:05:00 2015-04-06 16:01:00 2015-04-06 11:35:00   \n",
       "1       NYA 2015-04-08 19:05:00 2015-04-08 22:01:00 2015-04-08 17:35:00   \n",
       "2       NYA 2015-04-09 19:05:00 2015-04-09 22:01:00 2015-04-09 17:35:00   \n",
       "3       NYA 2015-04-10 19:05:00 2015-04-10 22:01:00 2015-04-10 17:35:00   \n",
       "4       NYA 2015-04-11 13:05:00 2015-04-11 16:01:00 2015-04-11 11:35:00   \n",
       "\n",
       "      startwindow_end     endwindow_start       endwindow_end  \n",
       "0 2015-04-06 13:35:00 2015-04-06 15:31:00 2015-04-06 17:31:00  \n",
       "1 2015-04-08 19:35:00 2015-04-08 21:31:00 2015-04-08 23:31:00  \n",
       "2 2015-04-09 19:35:00 2015-04-09 21:31:00 2015-04-09 23:31:00  \n",
       "3 2015-04-10 19:35:00 2015-04-10 21:31:00 2015-04-10 23:31:00  \n",
       "4 2015-04-11 13:35:00 2015-04-11 15:31:00 2015-04-11 17:31:00  "
      ]
     },
     "execution_count": 121,
     "metadata": {},
     "output_type": "execute_result"
    }
   ],
   "source": [
    "files = ['2014SKED.TXT','2015SKED.TXT','2016SKED.TXT']\n",
    "output = pd.DataFrame(columns=['Home team','starttime','endtime','startwindow_start', \\\n",
    "                               'startwindow_end','endwindow_start','endwindow_end'])\n",
    "\n",
    "for year in files:\n",
    "    output = output.append(getSchedules(year))\n",
    "\n",
    "output.to_csv('combined_schedules.csv')\n",
    "output.head()"
   ]
  },
  {
   "cell_type": "code",
   "execution_count": null,
   "metadata": {
    "collapsed": true
   },
   "outputs": [],
   "source": []
  }
 ],
 "metadata": {
  "anaconda-cloud": {},
  "kernelspec": {
   "display_name": "Python [Root]",
   "language": "python",
   "name": "Python [Root]"
  },
  "language_info": {
   "codemirror_mode": {
    "name": "ipython",
    "version": 2
   },
   "file_extension": ".py",
   "mimetype": "text/x-python",
   "name": "python",
   "nbconvert_exporter": "python",
   "pygments_lexer": "ipython2",
   "version": "2.7.12"
  }
 },
 "nbformat": 4,
 "nbformat_minor": 0
}
