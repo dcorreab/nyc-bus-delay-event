{
 "cells": [
  {
   "cell_type": "code",
   "execution_count": 1,
   "metadata": {
    "collapsed": false,
    "deletable": true,
    "editable": true
   },
   "outputs": [
    {
     "data": {
      "text/plain": [
       "<pyspark.context.SparkContext at 0x1005766d0>"
      ]
     },
     "execution_count": 1,
     "metadata": {},
     "output_type": "execute_result"
    }
   ],
   "source": [
    "sc"
   ]
  },
  {
   "cell_type": "code",
   "execution_count": 2,
   "metadata": {
    "collapsed": true,
    "deletable": true,
    "editable": true
   },
   "outputs": [],
   "source": [
    "import csv\n",
    "import pandas as pd\n",
    "from scipy import stats\n",
    "from datetime import datetime\n",
    "from pyspark.sql import functions\n",
    "from pyspark.sql.types import TimestampType"
   ]
  },
  {
   "cell_type": "code",
   "execution_count": 3,
   "metadata": {
    "collapsed": false,
    "deletable": true,
    "editable": true,
    "scrolled": false
   },
   "outputs": [],
   "source": [
    "def parseCSV(idx, records):\n",
    "    for row in csv.reader(records):\n",
    "        direction = 0\n",
    "        bus = row[7].split('_')[2]\n",
    "        tripid = row[7].split('_')[1].split('-')[2]\n",
    "        start = int(row[0].split('T')[1].split(':')[0])\n",
    "        minute = int(row[0].split('T')[1].split(':')[1])\n",
    "        t = datetime.strptime(row[0], '%Y-%m-%dT%H:%M:%SZ')  \n",
    "        date = t.strftime('%Y-%m-%d')\n",
    "        tm = t.strftime('%Y-%m-%d %H:%M:%S')\n",
    "        unique_key = str(date) + str(bus) + str(tripid)\n",
    "        \n",
    "        # Create bus direction\n",
    "        # Achilles changes - changed the values for the bearings and switched directions for Q48\n",
    "        \n",
    "        if bus == 'BX1':\n",
    "            if float(row[4]) < 200:\n",
    "                direction = 1\n",
    "            else:\n",
    "                direction = 2\n",
    "        elif bus == 'BX6':\n",
    "            if float(row[4]) < 110:\n",
    "                direction = 1\n",
    "            else:\n",
    "                direction = 2\n",
    "        elif bus == 'BX13':\n",
    "            if 70 <= float(row[4]) < 150:\n",
    "                direction = 1\n",
    "            else:\n",
    "                direction = 2\n",
    "        elif bus == 'Q48':\n",
    "            if 100 <= float(row[4]) < 150:\n",
    "                direction = 2\n",
    "            else:\n",
    "                direction = 1 \n",
    "                \n",
    "        if minute < 15:\n",
    "            interval = str(start) + str(':00-') + str(start) + str(':15')\n",
    "        elif 15 <= minute < 30:\n",
    "            interval = str(start) + str(':15-') + str(start) + str(':30')\n",
    "        elif 30 <= minute < 45:\n",
    "            interval = str(start) + str(':30-') + str(start) + str(':45')\n",
    "        elif 45 <= minute < 60:\n",
    "            interval = str(start) + str(':45-') + str(start+1) + str(':00')\n",
    "\n",
    "        yield unique_key, tm, bus, tripid, direction, interval\n",
    "\n",
    "## Source data file. \n",
    "# path = '/Users/JordanVani/Documents/NYU/BDM/nyc-bus-delay-event/Data/BDM_BusData.csv'\n",
    "path = 'data/BDM_BusData_subset.csv'\n",
    "\n",
    "## Parse datafile to RDD.\n",
    "data = sc.textFile(path).mapPartitionsWithIndex(parseCSV)\n",
    "\n",
    "## For each unique bus line, calculate route start time.\n",
    "min_by_group = (data\n",
    "                .map(lambda x: (x[0], x[0:6]))\n",
    "                .reduceByKey(lambda x1, x2: min(x1, x2, key=lambda x: x[1]))\n",
    "                .values()\n",
    "                .map(lambda x: (x[0], (x[1:6]))))\n",
    "\n",
    "## For each unique bus line, calculate route end time.\n",
    "max_by_group = (data\n",
    "                .map(lambda x: (x[0], x[0:2]))\n",
    "                .reduceByKey(lambda x1, x2: max(x1, x2, key=lambda x: x[1]))\n",
    "                .values())\n",
    "\n",
    "## Join start and stop times.\n",
    "rdd = min_by_group.join(max_by_group)\n",
    "rdd = rdd.flatMap(lambda x: [[x[0], x[1][0][0], x[1][1], x[1][0][1],\n",
    "                              x[1][0][2], x[1][0][4]]])\n",
    "\n",
    "# Calculate duration of bus.\n",
    "time_diff = rdd.toDF(['id', 'start', 'stop', 'bus', 'tripid', 'interval'])\n",
    "time_diff = time_diff.select('id', time_diff['start'].cast('timestamp'),\n",
    "                             time_diff['stop'].cast('timestamp'), 'bus', 'tripid', 'interval')\n",
    "timeDiff = (functions.unix_timestamp('stop', format=\"yyyy-MM-dd HH:mm:ss\")\n",
    "            - functions.unix_timestamp('start', format=\"yyyy-MM-dd HH:mm:ss\"))\n",
    "time_diff = time_diff.withColumn('duration', timeDiff)\n",
    "\n",
    "# Calculate mean direction\n",
    "trip_dir = data.toDF(['id_', 'time', 'bus', 'tripid', 'direction', 'interval'])\n",
    "trip_dir = trip_dir.groupby(\"id_\").agg({'direction': 'avg'})\n",
    "\n",
    "# Join direction back to data.\n",
    "master = time_diff.join(trip_dir, time_diff.id == trip_dir.id_, how='left_outer')\n",
    "master = master.select('id', 'start', 'bus', 'tripid', 'interval', 'duration', \n",
    "                       functions.col('avg(direction)').cast('int').alias('direction'))"
   ]
  },
  {
   "cell_type": "code",
   "execution_count": 4,
   "metadata": {
    "collapsed": false,
    "deletable": true,
    "editable": true
   },
   "outputs": [],
   "source": [
    "rdd_times = (master\n",
    "             .groupby(\"bus\", functions.date_format('start', 'yyyy-MM-dd').alias('date'), \n",
    "                      \"direction\", \"interval\")\n",
    "             .agg({\"duration\": \"avg\", \"id\": \"count\"}))"
   ]
  },
  {
   "cell_type": "code",
   "execution_count": 5,
   "metadata": {
    "collapsed": false,
    "deletable": true,
    "editable": true
   },
   "outputs": [
    {
     "data": {
      "text/plain": [
       "DataFrame[bus: string, date: string, direction: int, interval: string, avg(duration): double, count(id): bigint]"
      ]
     },
     "execution_count": 5,
     "metadata": {},
     "output_type": "execute_result"
    }
   ],
   "source": [
    "(rdd_times\n",
    " .sort(functions.col('bus'), functions.col('date'), functions.col('interval')))"
   ]
  },
  {
   "cell_type": "code",
   "execution_count": 6,
   "metadata": {
    "collapsed": false,
    "deletable": true,
    "editable": true
   },
   "outputs": [],
   "source": [
    "# read in schedule data\n",
    "schedules = sc.textFile('game_schedules/combined_schedules.csv').map(lambda line: line.split(\",\"))"
   ]
  },
  {
   "cell_type": "code",
   "execution_count": 7,
   "metadata": {
    "collapsed": false,
    "deletable": true,
    "editable": true
   },
   "outputs": [],
   "source": [
    "# convert schedule data to dataframe\n",
    "sched_df = schedules.toDF(['index','Home team','starttime','endtime','startwindow_start', \\\n",
    "                               'startwindow_end','endwindow_start','endwindow_end'])\n",
    "#sched_df.head(3)"
   ]
  },
  {
   "cell_type": "code",
   "execution_count": 8,
   "metadata": {
    "collapsed": false,
    "deletable": true,
    "editable": true
   },
   "outputs": [],
   "source": [
    "#sched_df.printSchema()"
   ]
  },
  {
   "cell_type": "code",
   "execution_count": 9,
   "metadata": {
    "collapsed": false,
    "deletable": true,
    "editable": true
   },
   "outputs": [],
   "source": [
    "#master.printSchema()"
   ]
  },
  {
   "cell_type": "code",
   "execution_count": 10,
   "metadata": {
    "collapsed": false,
    "deletable": true,
    "editable": true
   },
   "outputs": [],
   "source": [
    "# convert all time columns to type 'timestamp'\n",
    "for col in sched_df.columns[2:]:\n",
    "    sched_df = sched_df.withColumn(col, sched_df[col].cast('timestamp'))\n",
    "#sched_df.printSchema()"
   ]
  },
  {
   "cell_type": "code",
   "execution_count": 11,
   "metadata": {
    "collapsed": false,
    "deletable": true,
    "editable": true
   },
   "outputs": [],
   "source": [
    "# add a 'date' column to use for join with rdd_times\n",
    "sched_df = sched_df.withColumn('date', functions.date_format('starttime', 'yyyy-MM-dd'))"
   ]
  },
  {
   "cell_type": "code",
   "execution_count": 12,
   "metadata": {
    "collapsed": false,
    "deletable": true,
    "editable": true
   },
   "outputs": [],
   "source": [
    "# join schedule data to bus interval data\n",
    "joined_df = rdd_times.join(sched_df, 'date', 'left')\n",
    "#joined_df.take(3)"
   ]
  },
  {
   "cell_type": "code",
   "execution_count": 13,
   "metadata": {
    "collapsed": false,
    "deletable": true,
    "editable": true
   },
   "outputs": [],
   "source": [
    "joined_df = joined_df.drop('index', 'Home team', 'starttime', 'endtime')\n",
    "#joined_df.printSchema()"
   ]
  },
  {
   "cell_type": "code",
   "execution_count": 14,
   "metadata": {
    "collapsed": false,
    "deletable": true,
    "editable": true
   },
   "outputs": [],
   "source": [
    "#from pyspark.sql.functions import lit, concat, col\n",
    "\n",
    "joined_df = joined_df.withColumn('time', functions.split(joined_df.interval, '-')[0])\n",
    "joined_df = joined_df.withColumn('start', functions.concat(functions.col('date'), functions.lit(' '), \\\n",
    "                                                           functions.col('time')).cast('timestamp'))\n",
    "#joined_df.take(3)"
   ]
  },
  {
   "cell_type": "code",
   "execution_count": 15,
   "metadata": {
    "collapsed": false,
    "deletable": true,
    "editable": true
   },
   "outputs": [],
   "source": [
    "joined_df = joined_df.drop('time')\n",
    "#joined_df.printSchema()"
   ]
  },
  {
   "cell_type": "code",
   "execution_count": 16,
   "metadata": {
    "collapsed": false,
    "deletable": true,
    "editable": true
   },
   "outputs": [],
   "source": [
    "def checkWindows(start, start_start, start_end, end_start, end_end):\n",
    "    try:\n",
    "        if (start >= start_start) & (start <= start_end) | \\\n",
    "            (start >= end_start) & (start <= end_end):\n",
    "            return 1\n",
    "        else:\n",
    "            return 0\n",
    "    except:\n",
    "        pass\n",
    "\n",
    "labelFunc = functions.udf(checkWindows)"
   ]
  },
  {
   "cell_type": "code",
   "execution_count": 17,
   "metadata": {
    "collapsed": false,
    "deletable": true,
    "editable": true
   },
   "outputs": [],
   "source": [
    "labeled_df = joined_df.withColumn('is_game_bus', labelFunc(joined_df.start, \\\n",
    "                                                    joined_df.startwindow_start, \\\n",
    "                                                    joined_df.startwindow_end, \\\n",
    "                                                    joined_df.endwindow_start, \\\n",
    "                                                    joined_df.endwindow_end))"
   ]
  },
  {
   "cell_type": "code",
   "execution_count": 18,
   "metadata": {
    "collapsed": false,
    "deletable": true,
    "editable": true,
    "scrolled": false
   },
   "outputs": [],
   "source": [
    "labeled_df = labeled_df.drop('startwindow_start', 'startwindow_end', 'endwindow_start', 'endwindow_end', 'start')\n",
    "labeled_df = labeled_df.orderBy('date', 'bus', 'interval')\n",
    "#labeled_df.show(5)"
   ]
  },
  {
   "cell_type": "code",
   "execution_count": 21,
   "metadata": {
    "collapsed": false,
    "deletable": true,
    "editable": true
   },
   "outputs": [],
   "source": [
    "dates = (\"2014-03-31\",  \"2014-11-04\")\n",
    "date_from, date_to = [functions.to_date(functions.lit(s)).cast(TimestampType()) for s in dates]\n",
    "\n",
    "df_2014 = labeled_df.where((labeled_df.date > date_from) & (labeled_df.date < date_to))"
   ]
  },
  {
   "cell_type": "code",
   "execution_count": 22,
   "metadata": {
    "collapsed": true,
    "deletable": true,
    "editable": true
   },
   "outputs": [],
   "source": [
    "dates = (\"2015-03-31\",  \"2015-11-04\")\n",
    "date_from, date_to = [functions.to_date(functions.lit(s)).cast(TimestampType()) for s in dates]\n",
    "\n",
    "df_2015 = labeled_df.where((labeled_df.date > date_from) & (labeled_df.date < date_to))"
   ]
  },
  {
   "cell_type": "code",
   "execution_count": 23,
   "metadata": {
    "collapsed": true
   },
   "outputs": [],
   "source": [
    "dates = (\"2016-03-31\",  \"2016-11-04\")\n",
    "date_from, date_to = [functions.to_date(functions.lit(s)).cast(TimestampType()) for s in dates]\n",
    "\n",
    "df_2016 = labeled_df.where((labeled_df.date > date_from) & (labeled_df.date < date_to))"
   ]
  },
  {
   "cell_type": "code",
   "execution_count": 24,
   "metadata": {
    "collapsed": true
   },
   "outputs": [],
   "source": [
    "dates = (\"2017-03-31\",  \"2017-11-04\")\n",
    "date_from, date_to = [functions.to_date(functions.lit(s)).cast(TimestampType()) for s in dates]\n",
    "\n",
    "df_2017 = labeled_df.where((labeled_df.date > date_from) & (labeled_df.date < date_to))"
   ]
  },
  {
   "cell_type": "code",
   "execution_count": 25,
   "metadata": {
    "collapsed": false
   },
   "outputs": [],
   "source": [
    "df_season = df_2014.unionAll(df_2015)\n",
    "df_season = df_season.unionAll(df_2016)\n",
    "df_season = df_season.unionAll(df_2017)"
   ]
  },
  {
   "cell_type": "code",
   "execution_count": 26,
   "metadata": {
    "collapsed": false
   },
   "outputs": [],
   "source": [
    "df_baseball = df_season.where(df_season.is_game_bus == 1)\n",
    "df_no_baseball = df_season.where(df_season.is_game_bus == 0)"
   ]
  },
  {
   "cell_type": "code",
   "execution_count": 27,
   "metadata": {
    "collapsed": false
   },
   "outputs": [],
   "source": [
    "df_no_baseball = df_no_baseball.where(functions.col(\"interval\").isin({'11:30-11:45', '11:45-12:00', '12:00-12:15', \\\n",
    "                                                                   '12:15-12:30', '12:30-12:45', '12:45-13:00', \\\n",
    "                                                                   '13:00-13:15', '13:15-13:30', '14:30-14:45', \\\n",
    "                                                                   '14:45-15:00', '15:00-15:15', '15:15-15:30', \\\n",
    "                                                                   '15:30-15:45', '15:45-16:00', '16:00-16:15', \\\n",
    "                                                                   '16:15-16:30', '16:30-16:45', '16:45-17:00', \\\n",
    "                                                                   '17:00-17:15', '17:15-17:30', '17:30-17:45', \\\n",
    "                                                                   '17:45-18:00', '18:00-18:15', '18:15-18:30', \\\n",
    "                                                                   '18:30-18:45', '18:45-19:00', '19:00-19:15', \\\n",
    "                                                                   '19:15-19:30', '19:30-19:45', '20:00-20:15', \\\n",
    "                                                                   '20:15-20:30', '21:30-21:45', '21:45-22:00', \\\n",
    "                                                                   '22:00-22:15', '22:15-22:30', '22:30-22:45', \\\n",
    "                                                                   '22:45-23:00', '23:00-23:15', '23:15-23:30'}))"
   ]
  },
  {
   "cell_type": "code",
   "execution_count": 28,
   "metadata": {
    "collapsed": false,
    "scrolled": false
   },
   "outputs": [],
   "source": [
    "df_no_baseball_pd = df_no_baseball.toPandas()\n",
    "df_baseball_pd = df_baseball.toPandas()"
   ]
  },
  {
   "cell_type": "code",
   "execution_count": null,
   "metadata": {
    "collapsed": true
   },
   "outputs": [],
   "source": [
    "df_no_baseball_pd.to_csv('/user/is1480/project/mta_no_baseball.csv')\n",
    "df_baseball_pd.to_csv('/user/is1480/project/mta_baseball.csv')"
   ]
  },
  {
   "cell_type": "code",
   "execution_count": 29,
   "metadata": {
    "collapsed": false
   },
   "outputs": [
    {
     "data": {
      "text/plain": [
       "Ks_2sampResult(statistic=0.1803109630334761, pvalue=0.010719645919050773)"
      ]
     },
     "execution_count": 29,
     "metadata": {},
     "output_type": "execute_result"
    }
   ],
   "source": [
    "stats.ks_2samp(df_no_baseball_pd['avg(duration)'], df_baseball_pd['avg(duration)'])"
   ]
  },
  {
   "cell_type": "code",
   "execution_count": null,
   "metadata": {
    "collapsed": true
   },
   "outputs": [],
   "source": []
  }
 ],
 "metadata": {
  "anaconda-cloud": {},
  "kernelspec": {
   "display_name": "Python [default]",
   "language": "python",
   "name": "python2"
  },
  "language_info": {
   "codemirror_mode": {
    "name": "ipython",
    "version": 2
   },
   "file_extension": ".py",
   "mimetype": "text/x-python",
   "name": "python",
   "nbconvert_exporter": "python",
   "pygments_lexer": "ipython2",
   "version": "2.7.8"
  }
 },
 "nbformat": 4,
 "nbformat_minor": 2
}
