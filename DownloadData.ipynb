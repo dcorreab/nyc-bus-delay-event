{
 "cells": [
  {
   "cell_type": "code",
   "execution_count": 12,
   "metadata": {
    "collapsed": false
   },
   "outputs": [
    {
     "data": {
      "text/plain": [
       "<pyspark.context.SparkContext at 0x1007765d0>"
      ]
     },
     "execution_count": 12,
     "metadata": {},
     "output_type": "execute_result"
    }
   ],
   "source": [
    "import os\n",
    "import csv\n",
    "import numpy as np\n",
    "import pandas as pd\n",
    "from datetime import date, datetime, timedelta\n",
    "\n",
    "sc"
   ]
  },
  {
   "cell_type": "code",
   "execution_count": 49,
   "metadata": {
    "collapsed": false
   },
   "outputs": [],
   "source": [
    "def deltadates(start, end):\n",
    "    while start <= end:\n",
    "        yield '{0}{1:02d}{2:02d}'.format(start.year, start.month, start.day)\n",
    "        start += timedelta(days=1)\n",
    "\n",
    "def downloaddata(folder, downloadday):\n",
    "    filename = 'bus_time_' + downloadday + '.csv.xz'\n",
    "    year = str(downloadday[0:4])\n",
    "    month = str(downloadday[4:6])\n",
    "    urlloc = 'http://data.mytransit.nyc.s3.amazonaws.com/bus_time/' \n",
    "    url = '{0}{1}/{1}-{2}/{3}'.format(urlloc, year, month, filename)\n",
    "    \n",
    "    os.system('curl -o ' + folder + filename + ' ' + url)\n",
    "    os.system('xz -d ' + folder + filename )\n",
    "\n",
    "def deletedata(folder, downloadday):\n",
    "    filename = 'bus_time_' + downloadday\n",
    "    os.remove(folder + filename + '.csv')\n",
    "    \n",
    "def extractbusdata(Id, records):\n",
    "    if Id == 0:\n",
    "        records.next()\n",
    "    import csv\n",
    "    reader = csv.reader(records)\n",
    "    for row in reader:\n",
    "        if any(b in row[7] for b in buses):\n",
    "            yield row"
   ]
  },
  {
   "cell_type": "code",
   "execution_count": 51,
   "metadata": {
    "collapsed": false
   },
   "outputs": [],
   "source": [
    "folder = 'Data/'\n",
    "buses = ['Q48', 'Bx6', 'Bx13', 'Bx1']\n",
    "\n",
    "for d in deltadates(date(2014, 8, 9), date(2014, 8, 12)):\n",
    "    \n",
    "    downloaddata(folder, d)\n",
    "    \n",
    "    bus_data = sc.textFile(folder + 'bus_time_' + d + '.csv')\n",
    "    data = bus_data.mapPartitionsWithIndex(extractbusdata)\n",
    "    \n",
    "    with open(folder + 'output.csv', 'wb') as f:\n",
    "        w = csv.writer(f)\n",
    "        w.writerows(data.collect())\n",
    "    \n",
    "    deletedata(folder, d)"
   ]
  },
  {
   "cell_type": "code",
   "execution_count": null,
   "metadata": {
    "collapsed": true
   },
   "outputs": [],
   "source": []
  }
 ],
 "metadata": {
  "kernelspec": {
   "display_name": "Python 2",
   "language": "python",
   "name": "python2"
  },
  "language_info": {
   "codemirror_mode": {
    "name": "ipython",
    "version": 2
   },
   "file_extension": ".py",
   "mimetype": "text/x-python",
   "name": "python",
   "nbconvert_exporter": "python",
   "pygments_lexer": "ipython2",
   "version": "2.7.12"
  }
 },
 "nbformat": 4,
 "nbformat_minor": 1
}
