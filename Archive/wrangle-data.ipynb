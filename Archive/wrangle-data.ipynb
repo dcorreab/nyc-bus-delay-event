{
 "cells": [
  {
   "cell_type": "markdown",
   "metadata": {
    "deletable": true,
    "editable": true
   },
   "source": [
    "# Wrangle Data\n",
    "#### Danny Fay"
   ]
  },
  {
   "cell_type": "code",
   "execution_count": 1,
   "metadata": {
    "collapsed": false,
    "deletable": true,
    "editable": true
   },
   "outputs": [
    {
     "data": {
      "text/plain": [
       "<pyspark.context.SparkContext at 0x106f52d90>"
      ]
     },
     "execution_count": 1,
     "metadata": {},
     "output_type": "execute_result"
    }
   ],
   "source": [
    "# Import necessary packages\n",
    "import os\n",
    "import numpy as np\n",
    "import pandas as pd\n",
    "\n",
    "sc"
   ]
  },
  {
   "cell_type": "code",
   "execution_count": 2,
   "metadata": {
    "collapsed": true,
    "deletable": true,
    "editable": true
   },
   "outputs": [],
   "source": [
    "# Project file path\n",
    "bus_data_folder = 'data/external/bus_time'"
   ]
  },
  {
   "cell_type": "code",
   "execution_count": 3,
   "metadata": {
    "collapsed": true,
    "deletable": true,
    "editable": true
   },
   "outputs": [],
   "source": [
    "# Define extract buses mapping function\n",
    "def extractBuses(partId, list_of_records):\n",
    "    if partId==0:\n",
    "        list_of_records.next()\n",
    "    import csv\n",
    "    reader = csv.reader(list_of_records)\n",
    "    for row in reader:\n",
    "        if len(row[7].split('_')) >= 3:\n",
    "            bus = row[7].split('_')[2][:3]\n",
    "            if bus in bus_list:\n",
    "                if len(row[7].split('_')[1].split('-')) > 3:\n",
    "                    tripId = row[7].split('_')[1].split('-')[3]\n",
    "                    yield row[0], bus, tripId\n",
    "                else:\n",
    "                    tripId = row[7].split('_')[1].split('-')[2]\n",
    "                    yield row[0], bus, tripId\n",
    "            "
   ]
  },
  {
   "cell_type": "code",
   "execution_count": 4,
   "metadata": {
    "collapsed": false,
    "deletable": true,
    "editable": true,
    "scrolled": false
   },
   "outputs": [],
   "source": [
    "# Download and select bus lines\n",
    "\n",
    "for month in range(9,11):\n",
    "    for day in range(9,11):\n",
    "        \n",
    "        if month < 10 and day < 10:\n",
    "            file_name = '/bus_time_2016' + '0' + str(month) + '0' + str(day)\n",
    "            month_path = '0' + str(month)\n",
    "        elif month >= 10 and day < 10:\n",
    "            file_name = '/bus_time_2016' + str(month) + '0' + str(day)\n",
    "            month_path =  str(month)\n",
    "        elif month < 10 and day >= 10:\n",
    "            file_name = '/bus_time_2016' + '0' + str(month)  + str(day)\n",
    "            month_path =  '0' + str(month)\n",
    "        elif month >= 10 and day >= 10:\n",
    "            file_name = '/bus_time_2016' + str(month)  + str(day)\n",
    "            month_path =  str(month)\n",
    "            \n",
    "            \n",
    "        # Download data    \n",
    "        os.system('curl -o ' + bus_data_folder + file_name + '.csv.xz ' \\\n",
    "                      'http://data.mytransit.nyc/bus_time/2016/2016-' + month_path + file_name + '.csv.xz')\n",
    "        # Unzip\n",
    "        os.system('xz -d ' + bus_data_folder + file_name + '.csv.xz')\n",
    "        \n",
    "        # Check if file exists\n",
    "        if os.path.exists(bus_data_folder + file_name + '.csv'):\n",
    "            \n",
    "            # Load into spark rdd\n",
    "            bus_time = sc.textFile(bus_data_folder + file_name + '.csv', \n",
    "                                           use_unicode=True).cache()\n",
    "\n",
    "            # List of buses for analysis\n",
    "            bus_list = ['B15', 'B4', 'B3', 'B8', 'B38', 'B43', 'B54', 'B57', 'B62', 'B37', 'B41', 'B11']\n",
    "\n",
    "            # Extract bus lines matching bus_list\n",
    "            brooklynBuses = bus_time.mapPartitionsWithIndex(extractBuses)\n",
    "            \n",
    "            # Output to csv\n",
    "            df = pd.DataFrame(brooklynBuses.collect())\n",
    "            df.to_csv(bus_data_folder + file_name + '.csv')\n",
    "            \n",
    "        else:\n",
    "            pass\n",
    "            "
   ]
  },
  {
   "cell_type": "code",
   "execution_count": 34,
   "metadata": {
    "collapsed": false,
    "deletable": true,
    "editable": true
   },
   "outputs": [],
   "source": []
  },
  {
   "cell_type": "code",
   "execution_count": null,
   "metadata": {
    "collapsed": true,
    "deletable": true,
    "editable": true
   },
   "outputs": [],
   "source": []
  }
 ],
 "metadata": {
  "anaconda-cloud": {},
  "kernelspec": {
   "display_name": "Python [default]",
   "language": "python",
   "name": "python2"
  },
  "language_info": {
   "codemirror_mode": {
    "name": "ipython",
    "version": 2
   },
   "file_extension": ".py",
   "mimetype": "text/x-python",
   "name": "python",
   "nbconvert_exporter": "python",
   "pygments_lexer": "ipython2",
   "version": "2.7.8"
  }
 },
 "nbformat": 4,
 "nbformat_minor": 2
}
